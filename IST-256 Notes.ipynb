{
 "cells": [
  {
   "cell_type": "markdown",
   "metadata": {},
   "source": [
    "# IST-256 "
   ]
  },
  {
   "cell_type": "markdown",
   "metadata": {},
   "source": [
    "## Module 3: Introduction to PHP"
   ]
  },
  {
   "cell_type": "markdown",
   "metadata": {},
   "source": [
    "#### PHP Structure and Syntax"
   ]
  },
  {
   "cell_type": "markdown",
   "metadata": {},
   "source": [
    "PHP tags are demonstrated below:"
   ]
  },
  {
   "cell_type": "code",
   "execution_count": null,
   "metadata": {},
   "outputs": [],
   "source": [
    "<?php  # PHP opening tag at the top of a PHP file or in the Markup\n",
    "\n",
    "?>   # Closing tag, not necessary in raw PHP files"
   ]
  },
  {
   "cell_type": "markdown",
   "metadata": {},
   "source": [
    "Comments are shown below: "
   ]
  },
  {
   "cell_type": "code",
   "execution_count": null,
   "metadata": {},
   "outputs": [],
   "source": [
    "// Single Line Comment\n",
    "\n",
    "/*\n",
    " */ Multi-Line Comment"
   ]
  },
  {
   "cell_type": "markdown",
   "metadata": {},
   "source": [
    "PHP code ends with a semi-colon:"
   ]
  },
  {
   "cell_type": "code",
   "execution_count": null,
   "metadata": {},
   "outputs": [],
   "source": [
    "echo \"Text to Output\"; // Notice the line ends with a semi-colon"
   ]
  },
  {
   "cell_type": "markdown",
   "metadata": {},
   "source": [
    "Variables are indicated by '$'. Type declaration is not necessary. "
   ]
  },
  {
   "cell_type": "code",
   "execution_count": null,
   "metadata": {},
   "outputs": [],
   "source": [
    "$var1 = \"Hello World\";\n",
    "$var2 = 40;\n",
    "$var3 = True;"
   ]
  },
  {
   "cell_type": "markdown",
   "metadata": {},
   "source": [
    "Using Arrays:"
   ]
  },
  {
   "cell_type": "code",
   "execution_count": null,
   "metadata": {},
   "outputs": [],
   "source": [
    "$myArray = array(\"One\", \"Two\", \"Three\");"
   ]
  },
  {
   "cell_type": "code",
   "execution_count": null,
   "metadata": {},
   "outputs": [],
   "source": [
    "$Two_D_Array = array(array(\"1\", \"Name1\"),\n",
    "                    array(\"2\", \"Name2\"),\n",
    "                    array(\"3\", \"Name3\"));"
   ]
  },
  {
   "cell_type": "markdown",
   "metadata": {},
   "source": [
    "Standard String Syntax: '' or \"\""
   ]
  },
  {
   "cell_type": "markdown",
   "metadata": {},
   "source": [
    "Operators:"
   ]
  },
  {
   "cell_type": "code",
   "execution_count": null,
   "metadata": {},
   "outputs": [],
   "source": [
    "'+' = \"Add\";\n",
    "'-' = \"Subtract\";\n",
    "'*' = \"Multiply\";\n",
    "'/' = \"Divide\";\n",
    "'%' = \"Modulus\";\n",
    "'++' = \"Increment\";\n",
    "'--' = \"Decrement\";\n",
    "'**' = \"Power\";"
   ]
  },
  {
   "cell_type": "markdown",
   "metadata": {},
   "source": [
    "Assignment Operators:"
   ]
  },
  {
   "cell_type": "code",
   "execution_count": null,
   "metadata": {},
   "outputs": [],
   "source": [
    "'=' = \"Basic Assignment\";\n",
    "'+=' = \"x = x + y\";\n",
    "'-=' = \"x = x - y\";\n",
    "'*=' = \"x = x * y\";\n",
    "'/=' = \"x = x / y\";\n",
    "'.=' = \"x = x . y\";\n",
    "'%=' = \"x = x % y\";"
   ]
  },
  {
   "cell_type": "markdown",
   "metadata": {},
   "source": [
    "Comparison Operators:"
   ]
  },
  {
   "cell_type": "code",
   "execution_count": null,
   "metadata": {},
   "outputs": [],
   "source": [
    "'==' = \"Is Equal To\";\n",
    "'!=' or '<>' = \"Is Not Equal To\";\n",
    "'>' = \"Greater Than\";\n",
    "'<' = \"Less Than\";\n",
    "'>=' = \"Greater Than or Equal To\";\n",
    "'<=' = \"Less Than or Equal To\";\n",
    "'===' = \"Is Identical To\";\n",
    "'!==' = \"Is Not Identical To\";\n",
    "\n",
    "\n",
    "$Ident === \"987\"; // Is Ident Identical to 987?\n",
    "$nIdent !== \"1.2e3\" // Is nIdent not identical to 1.2e3?"
   ]
  },
  {
   "cell_type": "markdown",
   "metadata": {},
   "source": [
    "Logical Operators:"
   ]
  },
  {
   "cell_type": "code",
   "execution_count": null,
   "metadata": {},
   "outputs": [],
   "source": [
    "'&&' = \"And\";\n",
    "'and' = \"Low-Precedence and lower precedence than assignment operator\";\n",
    "'||' = \"Or\";\n",
    "'or' = \"Low-Precedence or Lower than assignment operator\";\n",
    "'!' = \"Not\";\n",
    "'xor' = \"Exclusive Or\";\n",
    "\n",
    "$x = 10;\n",
    "$y = 20;\n",
    "$extenOr = $x > 4 xor $y < 5;   // Evaluates True if only one of the expressions is True"
   ]
  },
  {
   "cell_type": "markdown",
   "metadata": {},
   "source": [
    "String Concatenation uses the Dot Operator:"
   ]
  },
  {
   "cell_type": "code",
   "execution_count": null,
   "metadata": {},
   "outputs": [],
   "source": [
    "$string1 = \"Hello \";\n",
    "$string2 = \"World!\";\n",
    "echo $string1 . $string2;\n",
    "echo \"Hello $string2\"; // echoes \"Hello World!\"\n",
    "echo 'Hello $string2'; // echoes \"Hello $string2\"\n",
    "\n",
    "// echoes \"Hello World!\"\n",
    "\n",
    "$num = 5;\n",
    "$string = \"Number: \";    // Can cast types intelligently\n",
    "echo $string . $nu\\rm;\n",
    "\n",
    "// echoes \"Number: 5\""
   ]
  },
  {
   "cell_type": "markdown",
   "metadata": {},
   "source": [
    "Escape Characters:"
   ]
  },
  {
   "cell_type": "code",
   "execution_count": null,
   "metadata": {},
   "outputs": [],
   "source": [
    "'\\t' = \"Add a Tab\";\n",
    "'\\n' = \"New Line\";\n",
    "'\\r' = \"Carriage Return\";\n",
    "\n",
    "// Tells PHP to include the apostrophe in the string.\n",
    "$text = 'Stephen\\'s dogs are well behaved.';  \n",
    "\n",
    "// Tells PHP to include the quotations in the string.\n",
    "$text = \"Stephen said \\\"Hello World.\\\".\";\n",
    "\n",
    "// Includes Tabs in the string.\n",
    "$ text = \"Date\\tName\\tPayment\";"
   ]
  },
  {
   "cell_type": "markdown",
   "metadata": {},
   "source": [
    "Console Output:"
   ]
  },
  {
   "cell_type": "code",
   "execution_count": null,
   "metadata": {},
   "outputs": [],
   "source": [
    "echo \"string\";\n",
    "echo 'string';\n",
    "print(\"string\");\n",
    "/* Print is a function that accepts a single parameter and \n",
    "    returns 1.\n",
    "    It can be used in more complex expressions\n",
    "*/\n",
    "\n",
    "// heredoc\n",
    "$var >>> _EOF\n",
    "You can include multiple lines of text in a heredoc.\n",
    "New lines are created and stored automatically.\n",
    "You can end the block by ending the block.\n",
    "_EOF;"
   ]
  },
  {
   "cell_type": "markdown",
   "metadata": {},
   "source": [
    "Constants:"
   ]
  },
  {
   "cell_type": "code",
   "execution_count": null,
   "metadata": {},
   "outputs": [],
   "source": [
    "// Creating Constants\n",
    "\n",
    "define(\"MAXIMUM_SPEED\", \"50\");\n",
    "\n",
    "// Usage\n",
    "\n",
    "if($speed == MAXIMUM_SPEED){\n",
    "    // do stuff\n",
    "}\n"
   ]
  },
  {
   "cell_type": "markdown",
   "metadata": {},
   "source": [
    "Magic Constants in PHP:"
   ]
  },
  {
   "cell_type": "code",
   "execution_count": null,
   "metadata": {},
   "outputs": [],
   "source": [
    "'__LINE__' = \"Current Line Number of File\";\n",
    "'__FILE__' = \"Full Path and Filename of File\";\n",
    "'__DIR__' = \"Directory of File\";\n",
    "'__FUNCTION__' = \"Function Name\";\n",
    "'__CLASS__' = \"Class Name\";\n",
    "'__METHOD__' = \"Method Name\";\n",
    "'__NAMESPACE__' = \"Current Namespace\";\n",
    "\n",
    "\n",
    "// Usage\n",
    "\n",
    "echo \"Line is: \" . __LINE__ . \" File: \" . __FILE__;\n"
   ]
  },
  {
   "cell_type": "markdown",
   "metadata": {},
   "source": [
    "Functions:"
   ]
  },
  {
   "cell_type": "code",
   "execution_count": null,
   "metadata": {},
   "outputs": [],
   "source": [
    "function add($num1, $num2){\n",
    "    return $num1 + $num2;\n",
    "} // add function\n",
    "\n",
    "$var1 = 5;\n",
    "$var2 = 5;\n",
    "echo add($var1, $var2);   // echoes the sum of var1 and var2"
   ]
  },
  {
   "cell_type": "markdown",
   "metadata": {},
   "source": [
    "Variable Scope:\n",
    "    - Local Variables\n",
    "        - Can only be accessed by a function, Temporary. \n",
    "        - Example: Parameter\n",
    "    - Global Variables\n",
    "        - Defined using 'global'\n",
    "        - Should only be used when necessary\n",
    "    - Static Variables\n",
    "        - Defined using 'static'\n",
    "        - Local to a function but keep their value after function\n",
    "    - Superglobal Variables\n",
    "        - Provided by PHP, contain info about running program and\n",
    "          environment\n",
    "        - Accessed from anywhere in the program\n",
    "        - There are 9 superglobal variables:\n",
    "          [See Below]\n"
   ]
  },
  {
   "cell_type": "code",
   "execution_count": null,
   "metadata": {},
   "outputs": [],
   "source": [
    "// Superglobal Variables\n",
    "\n",
    "$GLOBALS = \"All vaiables currently defined in the global scope\";\n",
    "$_SERVER = \"Info like headers, paths, and script locations\";\n",
    "$_GET = \"Variables passed to the current script via HTTP GET method\";\n",
    "$_POST = \"Variables passed to the script via HTTP POST method\";\n",
    "$_FILES = \"Items uploaded to the current script via POST method\";\n",
    "$_COOKIE = \"Variables passed to script via HTTP cookies\";\n",
    "$_SESSION = \"Session variables available to the script\";\n",
    "$_REQUEST = \"Contents of information passed from the browser\";\n",
    "$_ENV = \"Variables passed to the current script via the environment\";\n",
    "\n",
    "\n",
    "// Example\n",
    "$came_from = htmlentities($_SERVER['HTTP_REFERRER']);"
   ]
  },
  {
   "cell_type": "markdown",
   "metadata": {},
   "source": [
    "## Module 4: "
   ]
  },
  {
   "cell_type": "markdown",
   "metadata": {},
   "source": [
    "###Control Flow in PHP"
   ]
  },
  {
   "cell_type": "code",
   "execution_count": null,
   "metadata": {},
   "outputs": [],
   "source": [
    "// In PHP the expressions are pretty much the same as a normal OOPL however,\n",
    "\n",
    "TRUE = 1;\n",
    "FALSE = NULL; // It normally is 0 however in PHP it is nothing"
   ]
  },
  {
   "cell_type": "markdown",
   "metadata": {},
   "source": [
    "Consider these expressions:"
   ]
  },
  {
   "cell_type": "code",
   "execution_count": null,
   "metadata": {},
   "outputs": [],
   "source": [
    "<?php\n",
    "\n",
    "echo \"a: [\" . TRUE . \"]<br>\"; // Output[]: [1] ....TRUE displays 1\n",
    "echo \"a: [\" . FALSE . \"]<br>\"; // Output[]: [] .....FALSE displays NULL\n",
    "\n",
    "    \n",
    "?>\n",
    "    "
   ]
  },
  {
   "cell_type": "markdown",
   "metadata": {},
   "source": [
    "Literals and Variables:"
   ]
  },
  {
   "cell_type": "code",
   "execution_count": null,
   "metadata": {},
   "outputs": [],
   "source": [
    " // Literals Evaluate to themselves\n",
    "    echo \"A\"; // Output[]: A\n",
    "    echo 73; // Output[]: 73\n",
    "\n",
    "// Variables evaluate to the value assigned to it\n",
    "    $var = \"Hello\";\n",
    "    echo $var;   // Output[]: Hello"
   ]
  },
  {
   "cell_type": "markdown",
   "metadata": {},
   "source": [
    "Operators:"
   ]
  },
  {
   "cell_type": "code",
   "execution_count": null,
   "metadata": {},
   "outputs": [],
   "source": [
    "$a = 10;\n",
    "\n",
    "echo ++$a;   // Unary operator takes one argument\n",
    "\n",
    "echo 45 + $a; // Binary operator takes two arguments\n",
    "\n",
    "echo (20 > 9) ? \"Yes\" : \"No\"; // Ternary operator takes three arguments\n"
   ]
  },
  {
   "cell_type": "markdown",
   "metadata": {},
   "source": [
    "Associativity:"
   ]
  },
  {
   "cell_type": "code",
   "execution_count": null,
   "metadata": {},
   "outputs": [],
   "source": [
    "$var1 = $notVar1 = $still_notVar1 = \"Hello World\";\n",
    "\n",
    "echo $var1; // Output[]: \"Hello World\"\n",
    "echo $notVar1; // Output[]: \"Hello World\"\n",
    "echo $still_notVar1; // Output[]: \"Hello World\""
   ]
  },
  {
   "cell_type": "markdown",
   "metadata": {},
   "source": [
    "Equality Relational Operator:"
   ]
  },
  {
   "cell_type": "code",
   "execution_count": null,
   "metadata": {},
   "outputs": [],
   "source": [
    "$a = \"1000\";\n",
    "$b = \"+1000\";\n",
    "\n",
    "echo ($a == $b); // TRUE displays 1 // Converts both to numbers\n",
    "echo ($a === $b); // FALSE displays NULL // Converts both to strings\n",
    "\n",
    "// The same rules apply to the '!=' and '!=='\n",
    "\n"
   ]
  },
  {
   "cell_type": "markdown",
   "metadata": {},
   "source": [
    "NOTE: Other outputs that use the same boolean logic are conditional operators\n",
    "\n",
    "Logical Operators:"
   ]
  },
  {
   "cell_type": "code",
   "execution_count": null,
   "metadata": {},
   "outputs": [],
   "source": [
    "'and' = \"TRUE if both operands are True\";\n",
    "'or' = \"TRUE if either of the operands are True\";\n",
    "'xor' = \"TRUE if one of the operands is True\";\n",
    "'!' = \"TRUE if the operand is False and FALSE if the operand is True\""
   ]
  },
  {
   "cell_type": "markdown",
   "metadata": {},
   "source": [
    "? Operator:"
   ]
  },
  {
   "cell_type": "code",
   "execution_count": null,
   "metadata": {},
   "outputs": [],
   "source": [
    "$bank_balance = 0;\n",
    "\n",
    "// These statements are a shorthand if statement. \n",
    "echo $bank_balance > 100 ? \"Balance is greater than 100\" : \"Balance is less than 100\";\n",
    "    "
   ]
  },
  {
   "cell_type": "markdown",
   "metadata": {},
   "source": [
    "Looping:"
   ]
  },
  {
   "cell_type": "code",
   "execution_count": null,
   "metadata": {},
   "outputs": [],
   "source": [
    "// Three types of loops...\n",
    "\n",
    "while($var < 50){\n",
    "    // while loop\n",
    "}\n",
    "\n",
    "////////////////////////////////////////\n",
    "\n",
    "do{     // do-while loop\n",
    "    // does this once\n",
    "} while($var < 50); // Continues to do until met\n",
    "\n",
    "////////////////////////////////////////\n",
    "\n",
    "for(;;){\n",
    "    // for loop\n",
    "}\n",
    "\n",
    "////////////////////////////////////////\n",
    "\n",
    "foreach{\n",
    "    // for each loop. Awesome for arrays\n",
    "}\n",
    "\n"
   ]
  },
  {
   "cell_type": "markdown",
   "metadata": {},
   "source": [
    "Break and Continue:\n",
    "    - 'break' will exit the entire loop when it encounters an error      or when the loop can't continue.\n",
    "    - 'continue' ends the current interation of the loop and            immediatly moves to the next iteraton of the loop. Used when        there is no reason to continue with current processing for a        particular iteration of a loop."
   ]
  },
  {
   "cell_type": "code",
   "execution_count": null,
   "metadata": {},
   "outputs": [],
   "source": [
    "// 'continue' example\n",
    "\n",
    "$x = 5;\n",
    "\n",
    "while($x > -5){\n",
    "    $x--;\n",
    "    if($x == 0) continue;{\n",
    "        echo (5/$x) . \"<br>\";\n",
    "    }\n",
    "}"
   ]
  },
  {
   "cell_type": "code",
   "execution_count": null,
   "metadata": {},
   "outputs": [],
   "source": [
    "/* With 'implicit' casting the data type for a variable is chosen\n",
    " * based on what is needed as it is used throughout a program\n",
    " *\n",
    " * With 'explicit' casting the data type for a variable is specified:\n",
    " */\n",
    "\n",
    "(int) = 'Integer';\n",
    "(bool) = 'Boolean';\n",
    "(float) = 'Real-Double';\n",
    "(string) = 'String';\n",
    "(array) = 'Array';\n",
    "(object) = 'Object';\n",
    "\n",
    "\n",
    "$a = 26;\n",
    "$b = 5;\n",
    "$c = $a /$b; // decimal value\n",
    "$d = (int)($a / $b); // integer value\n",
    "echo \"c is: \" . $c . \" and d is: \" . $d;"
   ]
  },
  {
   "cell_type": "markdown",
   "metadata": {},
   "source": [
    "Dynamic linking is putting your code in multiple files. It will get cluttered and long, and hard to read if it is left in one long file. "
   ]
  },
  {
   "cell_type": "markdown",
   "metadata": {},
   "source": [
    "Functions:"
   ]
  },
  {
   "cell_type": "code",
   "execution_count": null,
   "metadata": {},
   "outputs": [],
   "source": [
    "//Functions are declared using the 'function' keyword like in JS\n",
    "\n",
    "function myFunc(){\n",
    "    //stuff goes here\n",
    "    \n",
    "    return null;   // Functions in PHP can return or be void\n",
    "}\n",
    "\n",
    "//Functions can also return global variables\n",
    "\n",
    "function myFunc2(){\n",
    "    global var1 = 4;\n",
    "    global var2 = 5;\n",
    "    // etc...\n",
    "}\n",
    "\n",
    "//Functions can also return arrays\n",
    "\n",
    "function myArrFunc(){\n",
    "    \n",
    "    // stuff\n",
    "    \n",
    "    return array($a, $b, $c);\n",
    "}\n",
    "\n",
    "// Useful sysFunctions\n",
    "str_repeat() = 'repeats string :: USAGE: str_repeat(strangVar, 3)' // Integer @param refers to number of iterations"
   ]
  },
  {
   "cell_type": "markdown",
   "metadata": {},
   "source": [
    "Passing Parameters as reference:"
   ]
  },
  {
   "cell_type": "code",
   "execution_count": null,
   "metadata": {},
   "outputs": [],
   "source": [
    "// @params can be used the same as they normally are. \n",
    "// Just like in c++ there are reference variables\n",
    "\n",
    "function myFunc(&var1, &var2, &var3){\n",
    "    //do stuff\n",
    "}"
   ]
  },
  {
   "cell_type": "markdown",
   "metadata": {},
   "source": [
    "Include && Require Files:\n",
    "\n",
    "- Functions can be used from other files using these keywords"
   ]
  },
  {
   "cell_type": "code",
   "execution_count": null,
   "metadata": {},
   "outputs": [],
   "source": [
    "include 'file_name'; // tells PHP to include a file and load its contents for use\n",
    "\n",
    "include_once 'file_name'; // does the same but only does it once to reduce errors\n",
    "\n",
    "require 'file_name'; // Tells PHP that it MUST include the file specified\n",
    "\n",
    "require_once 'file_name'; // does the same as 'include_once' just for require"
   ]
  },
  {
   "cell_type": "markdown",
   "metadata": {},
   "source": [
    "Object and Classes:\n",
    "\n",
    "OBJECTS:\n",
    "\n",
    "- Objects are a representation of a single structure called a class that has one or more functions and contains data needed to run those functions.\n",
    "\n",
    "- Provide Opportunity to re-use code\n",
    "\n",
    "- Objects should relate to a specific area of functionality\n",
    "\n",
    "CLASSES:\n",
    "\n",
    "- Class contains a collection data values and functions that support a specific area of processing.\n",
    "    -Objects are based on classes, and each new object of a class is called an instance.\n",
    "\n",
    "- Objects have both properties and methods.\n",
    "    - Properties are the object’s data elements\n",
    "    - Methods are the object’s functions\n",
    "    \n",
    "- Encapsulation is the practice of writing a class so that only its own methods can manipulate its properties.\n",
    "\n",
    "- Inheritance is when an existing class is used as the basis for creating a new class.\n",
    "    - The existing class is referred to as the superclass.\n",
    "    - The new class is referred to as the subclass. \n",
    "    \n"
   ]
  },
  {
   "cell_type": "code",
   "execution_count": null,
   "metadata": {},
   "outputs": [],
   "source": [
    "// Class example\n",
    "\n",
    "class Animal{\n",
    "    \n",
    "    public $name, $sound;\n",
    "    \n",
    "    function makeSound(){\n",
    "        echo $this->name . \" says \" . $this->sound;\n",
    "    }\n",
    "    \n",
    "} // class 'Animal'\n",
    "\n",
    "// Calling an instance of a class\n",
    "\n",
    "$dog = new Animal; // new instance of 'Animal' class\n",
    "print_r($dog); // 'print_r()' returns info about a variable\n",
    "\n",
    "// OUTPUT: 'Animal Object ([name]=> [sound]=>)'\n",
    "    \n",
    "// Using the class\n",
    "\n",
    "$dog->name = \"Clifford\"; // \"Set the dog's name to Clifford\"\n",
    "$dog->sound = \"Rawr\"; // \"Sets the dog's sound to Rawr\"\n",
    "\n",
    "\n",
    "//Copying an object\n",
    "\n",
    "$dog = $dog2; // dog2 is now dog too\n"
   ]
  },
  {
   "cell_type": "markdown",
   "metadata": {},
   "source": [
    "Constructors and Destructors:\n",
    "\n",
    "CONSTRUCTORS:\n",
    "\n",
    "- Constructor is a special type of method in a class that initializes its properties.\n",
    "\n",
    "DESTRUCTORS:\n",
    "\n",
    "- Destructor is a special type of method in a class that performs clean up after an object is done being used.\n",
    "    - Ex. Releasing connections"
   ]
  },
  {
   "cell_type": "code",
   "execution_count": null,
   "metadata": {},
   "outputs": [],
   "source": [
    "// Constructor Example\n",
    "\n",
    "class Animal{\n",
    "    \n",
    "    function __construct($param1, $param2){\n",
    "        // do stuff\n",
    "        \n",
    "    } // constructor\n",
    "    \n",
    "} // class 'Animal'\n",
    "\n",
    "// Destructor Example\n",
    "\n",
    "class Animal{\n",
    "    \n",
    "    function __destruct($param1, $param2){\n",
    "        // do stuff\n",
    "        \n",
    "    } // destructor\n",
    "    \n",
    "} // class 'Animal'"
   ]
  },
  {
   "cell_type": "markdown",
   "metadata": {},
   "source": [
    "Properties and Scope:\n",
    "\n",
    "PUBLIC - public scope refers to properties that can be referenced by any method anywhere.\n",
    "             - Used when outside code should have access to the property and extending classes should also inherit it\n",
    "\n",
    "PROTECTED - protected scope refers to properties that can be referenced only by the object’s class methods and those of any subclasses\n",
    "            - Used when outside code should not have access to the property but extending classes should inherit it\n",
    "            \n",
    "PRIVATE - private scope refers to properties that can be referenced only by methods within the same class not by subclasses\n",
    "            - Used when outside should not have access to the property and extending classes should not inherit it\n",
    "            \n",
    "\n",
    "STATIC - Defining a method as static means that it is called on a class, not on an object\n",
    "         - Static methods do not have access to any object properties\n",
    "         - Defining a property as static means that it is accessible without instantiating a class\n",
    "         \n",
    "         \n"
   ]
  },
  {
   "cell_type": "code",
   "execution_count": null,
   "metadata": {},
   "outputs": [],
   "source": [
    "// Static Example\n",
    "\n",
    "Animal::getName();\n",
    "        \n",
    "class Animal{\n",
    "    \n",
    "    static function getName(){\n",
    "        // do stuff\n",
    "        \n",
    "    } // static function\n",
    "    \n",
    "} // class 'Animal'\n",
    "\n",
    "\n",
    "// Static Property Example\n",
    "$dog = new Animal();\n",
    "echo \"Test A: \" . Animal::$numAnimals . \"<br>\";\n",
    "echo \"Test B: \" . $dog . get_numAnimals () . \"<br>\";\n",
    "echo \"Test C: \" . $dog . numAnimals . \"<br>\";\n",
    "class Animal{\n",
    "    static $numAnimals = 10;\n",
    "    function get_numAnimals(){\n",
    "    return self::$numAnimals;\n",
    "    }\n",
    "}"
   ]
  },
  {
   "cell_type": "markdown",
   "metadata": {},
   "source": [
    "Inheritance:\n",
    "\n",
    "- Inheritance allows you to derive a class from another class\n",
    "    - It creates a hierarchy of classes that share attributes and methods\n",
    "\n",
    "- Use the parent keyword to call methods on the parent class\n",
    "\n",
    "- PHP will not automatically call constructors on parent classes\n",
    "    - Subclass constructors should always call parent class constructors\n",
    "    \n",
    "- Use the final keyword to prevent subclasses from overriding parent class methods"
   ]
  },
  {
   "cell_type": "code",
   "execution_count": null,
   "metadata": {},
   "outputs": [],
   "source": [
    "// Inheritance Example\n",
    "\n",
    "$myDog = new Dog;\n",
    "$myDog->name = \"Clifford\";\n",
    "$myDog->sound = \"Wooof\";\n",
    "$myDog->breed = \"Big Fucking Dog\";\n",
    "$myDog->furColor = \"Red\";\n",
    "$myDog->makeSound();\n",
    "$myDog->displayInfo();\n",
    "\n",
    "class Animal {\n",
    "    public $name, $sound;\n",
    "    function makeSound(){\n",
    "        echo $this->name . \" says \" . $this->sound;\n",
    "    }\n",
    "}\n",
    "\n",
    "class Dog extends Animal {\n",
    "public $breed, $furColor\n",
    "    function displayInfo(){\n",
    "        echo \"<br> Name: \" . $this->name . \"<br>\";\n",
    "        echo \"Sound: \" . $this->sound . \"<br>\";\n",
    "        echo \"Breed: \" . $this->breed . \"<br>\";\n",
    "        echo \"Fur Color: \" . $this->furColor . \"<br>\";\n",
    "    }\n",
    "}"
   ]
  }
 ],
 "metadata": {
  "kernelspec": {
   "display_name": "Python 3",
   "language": "python",
   "name": "python3"
  },
  "language_info": {
   "codemirror_mode": {
    "name": "ipython",
    "version": 3
   },
   "file_extension": ".py",
   "mimetype": "text/x-python",
   "name": "python",
   "nbconvert_exporter": "python",
   "pygments_lexer": "ipython3",
   "version": "3.7.3"
  }
 },
 "nbformat": 4,
 "nbformat_minor": 2
}
